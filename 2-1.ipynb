{
 "cells": [
  {
   "cell_type": "markdown",
   "metadata": {},
   "source": [
    "<center><div style=\"direction:rtl;font-family:B Lotus, B Nazanin, Tahoma\">به نام خدا</div></center>\n",
    "\n",
    "<h1><center><div style=\"direction:rtl;font-family:B Lotus, B Nazanin, Tahoma\">تمرین عملی 2: طبقه بندی تصاویر Cifar10 با شبکه های کانولوشنالی روی googleColab</div></center></h1>\n",
    "\n",
    "[![Run in Google Colab](./images/colab.png)](https://colab.research.google.com/github/alireza-akhavan/SRU-deeplearning-workshop/blob/master/homework/ex2-conv-cifar10-in-colab.ipynb)"
   ]
  },
  {
   "cell_type": "markdown",
   "metadata": {},
   "source": [
    "## <div style=\"direction:rtl;text-align:right;font-family:B Lotus, B Nazanin, Tahoma\">صورت مساله</div>\n",
    "\n",
    "\n",
    "<div style=\"direction:rtl;text-align:right;font-family:Tahoma\">\n",
    "با شبکه های کانولوشنالی آشنا شدیم<br>\n",
    "توصیه می‌شود حتما بعد از تمرین اول این تمرین را حل کنید و قبل از این تمرین نوت بوک زیر را  مرور کنید:\n",
    "</div>\n",
    "\n",
    "[06_ConvolutionalNeuralNetwork-Hoda-Keras.ipynb ](https://nbviewer.jupyter.org/github/alireza-akhavan/SRU-deeplearning-workshop/blob/master/06_ConvolutionalNeuralNetwork-Hoda-Keras.ipynb)\n",
    "\n",
    "<div style=\"direction:rtl;text-align:right;font-family:Tahoma\">\n",
    "در این تمرین از مجموعه داده تصویری cifar10 استفاده خواهیم کرد. \n",
    "<br>\n",
    "خیلی از اوقات ممکنه دسترسی به GPU نداشته باشیم. حخوشبختانه سرویس های آنلاین و رایگانی هستند که توان محاسباتی رایگان در اختیارمان میگذراند. در این تمرین از شما خواسته شده که این نوت بوک را در گوگل کولب اجرا کنید.\n",
    "<br>\n",
    " قبلا در مورد گوگل کولب دو پست آموزشی نوشته شده است که در صورت تمایل به کسب اطلاعات بیشتر میتوانید بخوانید.\n",
    "    اما برای اجرا این تمرین نیازی به این جزئیات نخواهید داشت.\n",
    "</div>\n",
    "\n",
    "[آشنایی با سرویس ابری Google Colab ](http://blog.class.vision/1397/02/google-colab/)\n",
    "\n",
    "[اتصال مستقیم سرویس کولب (Google Colab) به درایو (Google Drive) از طریق فایل سیستم FUSE ](http://blog.class.vision/1397/04/%D8%A7%D8%AA%D8%B5%D8%A7%D9%84-%D9%85%D8%B3%D8%AA%D9%82%DB%8C%D9%85-%D8%B3%D8%B1%D9%88%DB%8C%D8%B3-%DA%A9%D9%88%D9%84%D8%A8-google-colab-%D8%A8%D9%87-%D8%AF%D8%B1%D8%A7%DB%8C%D9%88-google-drive/)\n"
   ]
  },
  {
   "cell_type": "markdown",
   "metadata": {},
   "source": [
    "## <div style=\"direction:rtl;text-align:right;font-family:B Lotus, B Nazanin, Tahoma\">لود کتابخانه های مورد نیاز </div>\n",
    "<div style=\"direction:rtl;text-align:right;font-family:Tahoma\">\n",
    "کتابخانه های مورد نیاز این تمرین لود شده اند\n",
    "<br>\n",
    "در صورت نیاز میتوانید کتابخانه های بیشتری لود کنید:\n",
    "</div>"
   ]
  },
  {
   "cell_type": "code",
   "execution_count": 1,
   "metadata": {},
   "outputs": [],
   "source": [
    "from tensorflow import keras\n",
    "from keras.models import Sequential\n",
    "from keras.layers import Dense, Flatten, Dropout\n",
    "from keras.layers import Conv2D, MaxPooling2D\n",
    "from keras.datasets import cifar10\n",
    "import numpy as np\n",
    "import matplotlib.pyplot as plt\n",
    "%matplotlib inline"
   ]
  },
  {
   "cell_type": "markdown",
   "metadata": {},
   "source": [
    "## <div style=\"direction:rtl;text-align:right;font-family:B Lotus, B Nazanin, Tahoma\">مجموعه داده ی Cifar10 </div>\n",
    "<div style=\"direction:rtl;text-align:right;font-family:Tahoma\">\n",
    "<br>\n",
    "این مجموعه داده تصاویر رنگی در اندازه ی 32 در 32 و در 10 کلاس مختلف شامل ماشین، کامیون، اسب و ... است که در چارچوب کراس موجود است و از همان استفاده میکنیم.\n",
    "<br>\n",
    "اطلاعات بیشتر در مورد این مجموعه داده را از سایت این مجموعه داده میتوانید مطالعه کنید:\n",
    "<br>\n",
    "</div>\n",
    "\n",
    "https://www.cs.toronto.edu/~kriz/cifar.html"
   ]
  },
  {
   "cell_type": "code",
   "execution_count": 2,
   "metadata": {},
   "outputs": [
    {
     "name": "stdout",
     "output_type": "stream",
     "text": [
      "Downloading data from https://www.cs.toronto.edu/~kriz/cifar-10-python.tar.gz\n",
      "170500096/170498071 [==============================] - 81s 0us/step\n",
      "170508288/170498071 [==============================] - 81s 0us/step\n"
     ]
    }
   ],
   "source": [
    "(x_train, y_train), (x_test, y_test) = cifar10.load_data()"
   ]
  },
  {
   "cell_type": "markdown",
   "metadata": {},
   "source": [
    "## <div style=\"direction:rtl;text-align:right;font-family:B Lotus, B Nazanin, Tahoma\">نگاهی به مجموعه داده بیندازیم...</div>\n",
    "<div style=\"direction:rtl;text-align:right;font-family:Tahoma\">\n",
    "در زیر تصویری که در اندیس 7-ام این مجموعه داده قرار دارد را مشاهده می‌کنیم. این شماره را را به دلخوه عوض کنید و چند تصویر دیگر این مجموعه داده را ببینید.\n",
    "</div>\n"
   ]
  },
  {
   "cell_type": "code",
   "execution_count": 7,
   "metadata": {},
   "outputs": [
    {
     "data": {
      "text/plain": [
       "(50000, 32, 32, 3)"
      ]
     },
     "execution_count": 7,
     "metadata": {},
     "output_type": "execute_result"
    },
    {
     "data": {
      "image/png": "[encoded data removed]",
      "text/plain": [
       "<Figure size 432x288 with 1 Axes>"
      ]
     },
     "metadata": {
      "needs_background": "light"
     },
     "output_type": "display_data"
    }
   ],
   "source": [
    "plt.imshow(x_train[7])"
   ]
  },
  {
   "cell_type": "markdown",
   "metadata": {},
   "source": [
    "# <div style=\"direction:rtl;text-align:right;font-family:B Lotus, B Nazanin, Tahoma\">سوال 1:</div>\n",
    "<div style=\"direction:rtl;text-align:right;font-family:Tahoma\">\n",
    "ماتریس های تصویر را تبدیل به نوع داده ای float32 کنید و مقادیر پیکسل ها را نرمال کنید و بین 0 و 1 بیاورید.\n",
    "<br>\n",
    "<b>راهنمایی: </b>\n",
    "شما باید متد astype را صدا بزنید و در نهایت مقادیر پیکسل ها را تقسیم بر 255 کنید.</div>"
   ]
  },
  {
   "cell_type": "code",
   "execution_count": 4,
   "metadata": {},
   "outputs": [],
   "source": [
    "x_train = x_train.astype('float32')\n",
    "x_test = x_test.astype('float32')\n",
    "x_train /= 255.0\n",
    "x_test /= 255.0"
   ]
  },
  {
   "cell_type": "markdown",
   "metadata": {},
   "source": [
    "# <div style=\"direction:rtl;text-align:right;font-family:B Lotus, B Nazanin, Tahoma\">سوال 2:</div>\n",
    "<div style=\"direction:rtl;text-align:right;font-family:Tahoma\">\n",
    "همان طور که میبینید لیبل ها از نوع عددی هستند. آن ها را تبدیل به فرمت one-hot کنید.<br>\n",
    "</div>\n"
   ]
  },
  {
   "cell_type": "markdown",
   "metadata": {},
   "source": [
    "<hr>\n",
    "<div style=\"direction:rtl;text-align:right;font-family:Tahoma\">\n",
    "تعدادی از لیبل ها قبل از تبدیل به فرمت one-hot:</div>"
   ]
  },
  {
   "cell_type": "code",
   "execution_count": 5,
   "metadata": {},
   "outputs": [
    {
     "data": {
      "text/plain": [
       "array([[6],\n",
       "       [9],\n",
       "       [9],\n",
       "       [4],\n",
       "       [1],\n",
       "       [1],\n",
       "       [2],\n",
       "       [7],\n",
       "       [8],\n",
       "       [3]], dtype=uint8)"
      ]
     },
     "execution_count": 5,
     "metadata": {},
     "output_type": "execute_result"
    }
   ],
   "source": [
    "y_train[0:10]"
   ]
  },
  {
   "cell_type": "code",
   "execution_count": 5,
   "metadata": {},
   "outputs": [],
   "source": [
    "y_train = keras.utils.to_categorical(y_train, num_classes=10)\n",
    "y_test = keras.utils.to_categorical(y_test, num_classes=10)"
   ]
  },
  {
   "cell_type": "markdown",
   "metadata": {},
   "source": [
    "<div style=\"direction:rtl;text-align:right;font-family:Tahoma\">\n",
    "تعدادی از لیبل ها بعد از تبدیل به فرمت one-hot:</div>"
   ]
  },
  {
   "cell_type": "code",
   "execution_count": 6,
   "metadata": {},
   "outputs": [
    {
     "data": {
      "text/plain": [
       "array([[0., 0., 0., 0., 0., 0., 1., 0., 0., 0.],\n",
       "       [0., 0., 0., 0., 0., 0., 0., 0., 0., 1.],\n",
       "       [0., 0., 0., 0., 0., 0., 0., 0., 0., 1.],\n",
       "       [0., 0., 0., 0., 1., 0., 0., 0., 0., 0.],\n",
       "       [0., 1., 0., 0., 0., 0., 0., 0., 0., 0.],\n",
       "       [0., 1., 0., 0., 0., 0., 0., 0., 0., 0.],\n",
       "       [0., 0., 1., 0., 0., 0., 0., 0., 0., 0.],\n",
       "       [0., 0., 0., 0., 0., 0., 0., 1., 0., 0.],\n",
       "       [0., 0., 0., 0., 0., 0., 0., 0., 1., 0.],\n",
       "       [0., 0., 0., 1., 0., 0., 0., 0., 0., 0.]], dtype=float32)"
      ]
     },
     "execution_count": 6,
     "metadata": {},
     "output_type": "execute_result"
    }
   ],
   "source": [
    "y_train[0:10]"
   ]
  },
  {
   "cell_type": "markdown",
   "metadata": {},
   "source": [
    "# <div style=\"direction:rtl;text-align:right;font-family:B Lotus, B Nazanin, Tahoma\">سوال 3:</div>\n",
    "<div style=\"direction:rtl;text-align:right;font-family:Tahoma\">\n",
    "یک شبکه کانولوشنالی با معماری زیر بسازید:\n",
    "<ul>\n",
    "    <li>\n",
    "    یک لایه کانولوشنی با32 فیلتر با سایز فیلتر 3x3 و تابع فعالیت relu\n",
    "    </li>\n",
    "    <li>\n",
    "    لایه ی pooling با pool_size=(2,2)\n",
    "    </li>\n",
    "    <li>\n",
    "    یک لایه کانولوشنی با32 فیلتر با سایز فیلتر 3x3 و تابع فعالیت relu\n",
    "    </li>\n",
    "    <li>\n",
    "    لایه ی pooling با pool_size=(2,2)\n",
    "    </li>\n",
    "    <li>\n",
    "    یک لایه کانولوشنی با64 فیلتر با سایز فیلتر 3x3 و تابع فعالیت relu\n",
    "    </li>\n",
    "    <li>\n",
    "    لایه ی pooling با pool_size=(2,2)\n",
    "    </li>\n",
    "    <li>\n",
    "    استفاده از لایه ی Flatten() . به نظرتون چرا؟\n",
    "    </li>    \n",
    "    <li>\n",
    "    یک لایه Dropout با ترخ 0.5.\n",
    "    </li>\n",
    "    <li>\n",
    "    یک لایه softmax برای احتمالات خروجی. به نظرتون این لایه چند نوران میخواهد؟\n",
    "    </li>    \n",
    " \n",
    "</ul>\n",
    "</div>\n"
   ]
  },
  {
   "cell_type": "code",
   "execution_count": 8,
   "metadata": {},
   "outputs": [],
   "source": [
    "model = Sequential()\n",
    "model.add(Conv2D(32,(3,3), activation='relu', input_shape=(32,32,3)))\n",
    "model.add(MaxPooling2D(2,2))\n",
    "model.add(Conv2D(32,(3,3), activation='relu'))\n",
    "model.add(MaxPooling2D(2,2))\n",
    "model.add(Conv2D(64,(3,3), activation='relu'))\n",
    "model.add(MaxPooling2D(2,2))\n",
    "model.add(Flatten())\n",
    "model.add(Dropout(0.5))\n",
    "model.add(Dense(10, activation='softmax'))"
   ]
  },
  {
   "cell_type": "code",
   "execution_count": 10,
   "metadata": {},
   "outputs": [
    {
     "name": "stdout",
     "output_type": "stream",
     "text": [
      "Model: \"sequential\"\n",
      "_________________________________________________________________\n",
      " Layer (type)                Output Shape              Param #   \n",
      "=================================================================\n",
      " conv2d (Conv2D)             (None, 30, 30, 32)        896       \n",
      "                                                                 \n",
      " max_pooling2d (MaxPooling2D  (None, 15, 15, 32)       0         \n",
      " )                                                               \n",
      "                                                                 \n",
      " conv2d_1 (Conv2D)           (None, 13, 13, 32)        9248      \n",
      "                                                                 \n",
      " max_pooling2d_1 (MaxPooling  (None, 6, 6, 32)         0         \n",
      " 2D)                                                             \n",
      "                                                                 \n",
      " conv2d_2 (Conv2D)           (None, 4, 4, 64)          18496     \n",
      "                                                                 \n",
      " max_pooling2d_2 (MaxPooling  (None, 2, 2, 64)         0         \n",
      " 2D)                                                             \n",
      "                                                                 \n",
      " flatten (Flatten)           (None, 256)               0         \n",
      "                                                                 \n",
      " dropout (Dropout)           (None, 256)               0         \n",
      "                                                                 \n",
      " dense (Dense)               (None, 10)                2570      \n",
      "                                                                 \n",
      "=================================================================\n",
      "Total params: 31,210\n",
      "Trainable params: 31,210\n",
      "Non-trainable params: 0\n",
      "_________________________________________________________________\n"
     ]
    }
   ],
   "source": [
    "model.summary()"
   ]
  },
  {
   "cell_type": "markdown",
   "metadata": {},
   "source": [
    "# <div style=\"direction:rtl;text-align:right;font-family:B Lotus, B Nazanin, Tahoma\">سوال 4:</div>\n",
    "<div style=\"direction:rtl;text-align:right;font-family:Tahoma\">\n",
    "مدل را کامپایل کنید و به عنوان optimizer متغیر opt_rms به تابع ارسال کنید. </div>\n"
   ]
  },
  {
   "cell_type": "code",
   "execution_count": 9,
   "metadata": {},
   "outputs": [],
   "source": [
    "opt_rms = keras.optimizers.RMSprop(learning_rate=0.001,decay=1e-6)\n",
    "model.compile(optimizer=opt_rms, loss='categorical_crossentropy', metrics=['accuracy'])"
   ]
  },
  {
   "cell_type": "markdown",
   "metadata": {},
   "source": [
    "# <div style=\"direction:rtl;text-align:right;font-family:B Lotus, B Nazanin, Tahoma\">سوال 5:</div>\n",
    "<div style=\"direction:rtl;text-align:right;font-family:Tahoma\">\n",
    "با فراخوانی متد fit روی مدل آن را آموزش بدهید. برای سادگی25 ایپاک با سایز بچ 64 بزنید. \n",
    "    <br>\n",
    " به عنوان دیتای validation نیز x_test و y_test را ارسال کنید که در هر سری کارایی روی داده های تست اعلام شود.\n",
    "</div>"
   ]
  },
  {
   "cell_type": "code",
   "execution_count": 12,
   "metadata": {},
   "outputs": [
    {
     "name": "stdout",
     "output_type": "stream",
     "text": [
      "Epoch 1/25\n",
      "1563/1563 [==============================] - 18s 11ms/step - loss: 1.0381 - accuracy: 0.6483 - val_loss: 0.9421 - val_accuracy: 0.6957\n",
      "Epoch 2/25\n",
      "1563/1563 [==============================] - 16s 10ms/step - loss: 1.0406 - accuracy: 0.6513 - val_loss: 1.0849 - val_accuracy: 0.6401\n",
      "Epoch 3/25\n",
      "1563/1563 [==============================] - 16s 10ms/step - loss: 1.0399 - accuracy: 0.6513 - val_loss: 0.9869 - val_accuracy: 0.6633\n",
      "Epoch 4/25\n",
      "1563/1563 [==============================] - 17s 11ms/step - loss: 1.0533 - accuracy: 0.6427 - val_loss: 1.0174 - val_accuracy: 0.6419\n",
      "Epoch 5/25\n",
      "1563/1563 [==============================] - 16s 10ms/step - loss: 1.0590 - accuracy: 0.6454 - val_loss: 0.9447 - val_accuracy: 0.6781\n",
      "Epoch 6/25\n",
      "1563/1563 [==============================] - 16s 10ms/step - loss: 1.0673 - accuracy: 0.6439 - val_loss: 1.0127 - val_accuracy: 0.6548\n",
      "Epoch 7/25\n",
      "1563/1563 [==============================] - 17s 11ms/step - loss: 1.0733 - accuracy: 0.6395 - val_loss: 1.3317 - val_accuracy: 0.5831\n",
      "Epoch 8/25\n",
      "1563/1563 [==============================] - 17s 11ms/step - loss: 1.0902 - accuracy: 0.6361 - val_loss: 1.0309 - val_accuracy: 0.6341\n",
      "Epoch 9/25\n",
      "1563/1563 [==============================] - 16s 11ms/step - loss: 1.0957 - accuracy: 0.6359 - val_loss: 0.9847 - val_accuracy: 0.6818\n",
      "Epoch 10/25\n",
      "1563/1563 [==============================] - 16s 10ms/step - loss: 1.1043 - accuracy: 0.6299 - val_loss: 1.1532 - val_accuracy: 0.6077\n",
      "Epoch 11/25\n",
      "1563/1563 [==============================] - 16s 10ms/step - loss: 1.1227 - accuracy: 0.6263 - val_loss: 1.0046 - val_accuracy: 0.6651\n",
      "Epoch 12/25\n",
      "1563/1563 [==============================] - 16s 10ms/step - loss: 1.1313 - accuracy: 0.6258 - val_loss: 1.0957 - val_accuracy: 0.6486\n",
      "Epoch 13/25\n",
      "1563/1563 [==============================] - 17s 11ms/step - loss: 1.1439 - accuracy: 0.6214 - val_loss: 0.9977 - val_accuracy: 0.6756\n",
      "Epoch 14/25\n",
      "1563/1563 [==============================] - 16s 11ms/step - loss: 1.1636 - accuracy: 0.6159 - val_loss: 1.0581 - val_accuracy: 0.6503\n",
      "Epoch 15/25\n",
      "1563/1563 [==============================] - 16s 10ms/step - loss: 1.1834 - accuracy: 0.6134 - val_loss: 1.0689 - val_accuracy: 0.6510\n",
      "Epoch 16/25\n",
      "1563/1563 [==============================] - 17s 11ms/step - loss: 1.1833 - accuracy: 0.6101 - val_loss: 1.1108 - val_accuracy: 0.6575\n",
      "Epoch 17/25\n",
      "1563/1563 [==============================] - 16s 10ms/step - loss: 1.2200 - accuracy: 0.6006 - val_loss: 1.1629 - val_accuracy: 0.6122\n",
      "Epoch 18/25\n",
      "1563/1563 [==============================] - 16s 10ms/step - loss: 1.2284 - accuracy: 0.5975 - val_loss: 1.1040 - val_accuracy: 0.6294\n",
      "Epoch 19/25\n",
      "1563/1563 [==============================] - 16s 10ms/step - loss: 1.2467 - accuracy: 0.5924 - val_loss: 1.3806 - val_accuracy: 0.5498\n",
      "Epoch 20/25\n",
      "1563/1563 [==============================] - 16s 10ms/step - loss: 1.2532 - accuracy: 0.5893 - val_loss: 1.4377 - val_accuracy: 0.6005\n",
      "Epoch 21/25\n",
      "1563/1563 [==============================] - 16s 10ms/step - loss: 1.2695 - accuracy: 0.5841 - val_loss: 1.2335 - val_accuracy: 0.6103\n",
      "Epoch 22/25\n",
      "1563/1563 [==============================] - 16s 10ms/step - loss: 1.2783 - accuracy: 0.5853 - val_loss: 1.2160 - val_accuracy: 0.5765\n",
      "Epoch 23/25\n",
      "1563/1563 [==============================] - 17s 11ms/step - loss: 1.3057 - accuracy: 0.5739 - val_loss: 1.1903 - val_accuracy: 0.5995\n",
      "Epoch 24/25\n",
      "1563/1563 [==============================] - 17s 11ms/step - loss: 1.3080 - accuracy: 0.5717 - val_loss: 1.7316 - val_accuracy: 0.5440\n",
      "Epoch 25/25\n",
      "1563/1563 [==============================] - 17s 11ms/step - loss: 1.3068 - accuracy: 0.5751 - val_loss: 1.2514 - val_accuracy: 0.5848\n"
     ]
    },
    {
     "data": {
      "text/plain": [
       "<keras.callbacks.History at 0x169ee455f00>"
      ]
     },
     "execution_count": 12,
     "metadata": {},
     "output_type": "execute_result"
    }
   ],
   "source": [
    "model.fit(x_train, y_train, epochs=25, batch_size=32, validation_data=(x_test, y_test))"
   ]
  },
  {
   "cell_type": "code",
   "execution_count": 13,
   "metadata": {},
   "outputs": [
    {
     "name": "stdout",
     "output_type": "stream",
     "text": [
      "313/313 [==============================] - 1s 3ms/step - loss: 1.2514 - accuracy: 0.5848\n",
      "Final test set loss: 1.251388\n",
      "Final test set accuracy: 0.584800\n"
     ]
    }
   ],
   "source": [
    "results = model.evaluate(x_test, y_test)\n",
    "\n",
    "print('Final test set loss: {:4f}'.format(results[0]))\n",
    "print('Final test set accuracy: {:4f}'.format(results[1]))"
   ]
  },
  {
   "cell_type": "markdown",
   "metadata": {},
   "source": [
    "# <div style=\"direction:rtl;text-align:right;font-family:B Lotus, B Nazanin, Tahoma\">سوال 6:</div>\n",
    "<div style=\"direction:rtl;text-align:right;font-family:Tahoma\">\n",
    "شبکه و هایپرپارامترهای این شبکه را به هر نحوی دوست دارید تغییر دهید تا دقت روی دادگان تست را به حداکثر برسانید.\n",
    "</div>\n"
   ]
  },
  {
   "cell_type": "markdown",
   "metadata": {},
   "source": [
    "<div class=\"alert alert-block alert-info\">\n",
    "<div style=\"direction:rtl;text-align:right;font-family:B Lotus, B Nazanin, Tahoma\"> دوره مقدماتی یادگیری عمیق<br>علیرضا اخوان پور<br>پنج شنبه، ۱۸ و ۲۵ بهمن ۱۳۹۷<br>\n",
    "</div>\n",
    "<a href=\"http://class.vision\">Class.Vision</a> - <a href=\"http://AkhavanPour.ir\">AkhavanPour.ir</a> - <a href=\"https://github.com/Alireza-Akhavan/\">GitHub</a>\n",
    "\n",
    "</div>"
   ]
  },
  {
   "cell_type": "code",
   "execution_count": null,
   "metadata": {},
   "outputs": [],
   "source": []
  }
 ],
 "metadata": {
  "kernelspec": {
   "display_name": "Python 3 (ipykernel)",
   "language": "python",
   "name": "python3"
  },
  "language_info": {
   "codemirror_mode": {
    "name": "ipython",
    "version": 3
   },
   "file_extension": ".py",
   "mimetype": "text/x-python",
   "name": "python",
   "nbconvert_exporter": "python",
   "pygments_lexer": "ipython3",
   "version": "3.10.2"
  }
 },
 "nbformat": 4,
 "nbformat_minor": 2
}
