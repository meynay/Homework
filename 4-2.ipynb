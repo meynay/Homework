{
  "nbformat": 4,
  "nbformat_minor": 0,
  "metadata": {
    "colab": {
      "name": "Untitled0.ipynb",
      "provenance": []
    },
    "kernelspec": {
      "name": "python3",
      "display_name": "Python 3"
    },
    "language_info": {
      "name": "python"
    },
    "accelerator": "GPU"
  },
  "cells": [
    {
      "cell_type": "code",
      "execution_count": 27,
      "metadata": {
        "id": "eLuLrjEbmRvF"
      },
      "outputs": [],
      "source": [
        "import tensorflow as tf\n",
        "import os\n",
        "import pathlib\n",
        "import numpy as np\n",
        "import matplotlib.pyplot as plt"
      ]
    },
    {
      "cell_type": "code",
      "source": [
        "flowers_root = tf.keras.utils.get_file(\n",
        "    'flower_photos',\n",
        "    'https://storage.googleapis.com/download.tensorflow.org/example_images/flower_photos.tgz',\n",
        "    untar=True)"
      ],
      "metadata": {
        "id": "-YZkNtf4maet"
      },
      "execution_count": 28,
      "outputs": []
    },
    {
      "cell_type": "code",
      "source": [
        "dataset_dir = pathlib.Path(flowers_root)"
      ],
      "metadata": {
        "id": "8jD5BVRLmf3K"
      },
      "execution_count": 29,
      "outputs": []
    },
    {
      "cell_type": "code",
      "source": [
        "class_names = np.array([item.name for item in dataset_dir.glob('*') if item.name!='LICENSE.txt'])"
      ],
      "metadata": {
        "id": "AMIPsOpfm88c"
      },
      "execution_count": 30,
      "outputs": []
    },
    {
      "cell_type": "code",
      "source": [
        "class_names"
      ],
      "metadata": {
        "colab": {
          "base_uri": "https://localhost:8080/"
        },
        "id": "nSKXfZRXnJ9E",
        "outputId": "dfe27848-e531-4c0d-e6ae-edd596f468ac"
      },
      "execution_count": 31,
      "outputs": [
        {
          "output_type": "execute_result",
          "data": {
            "text/plain": [
              "array(['tulips', 'daisy', 'roses', 'dandelion', 'sunflowers'],\n",
              "      dtype='<U10')"
            ]
          },
          "metadata": {},
          "execution_count": 31
        }
      ]
    },
    {
      "cell_type": "code",
      "source": [
        "dataset = tf.data.Dataset.list_files(str(dataset_dir/'*/*'))"
      ],
      "metadata": {
        "id": "A069KhzLnOCh"
      },
      "execution_count": 32,
      "outputs": []
    },
    {
      "cell_type": "code",
      "source": [
        "validation_split = 0.2"
      ],
      "metadata": {
        "id": "AWbgCxWynlwg"
      },
      "execution_count": 33,
      "outputs": []
    },
    {
      "cell_type": "code",
      "source": [
        "DATASET_SIZE = len(list(dataset))\n",
        "print(\"Dataset size: \", DATASET_SIZE)\n",
        "train_size = int((1-validation_split) * DATASET_SIZE)\n",
        "print(\"train size: \", train_size)\n",
        "train_dataset = dataset.take(train_size)\n",
        "validation_dataset = dataset.skip(train_size)"
      ],
      "metadata": {
        "colab": {
          "base_uri": "https://localhost:8080/"
        },
        "id": "NdNV_DBCnwux",
        "outputId": "b4ece8c3-283e-463e-de20-445c196fa613"
      },
      "execution_count": 34,
      "outputs": [
        {
          "output_type": "stream",
          "name": "stdout",
          "text": [
            "Dataset size:  3670\n",
            "train size:  2936\n"
          ]
        }
      ]
    },
    {
      "cell_type": "code",
      "source": [
        "def augment_data(image):\n",
        "    image = tf.image.resize_with_crop_or_pad(image, 180, 180) # Add 6 pixels of padding\n",
        "    image = tf.image.random_crop(image, size=[150, 150, 3]) # Random crop back to 28x28\n",
        "    image = tf.image.random_brightness(image, max_delta=0.5) # Random brightness\n",
        "\n",
        "    return image"
      ],
      "metadata": {
        "id": "pichBzTOoMvN"
      },
      "execution_count": 35,
      "outputs": []
    },
    {
      "cell_type": "code",
      "source": [
        "def get_label(file_path):\n",
        "  parts = tf.strings.split(file_path, os.path.sep)\n",
        "  return parts[-2] == class_names"
      ],
      "metadata": {
        "id": "xfN3WhdqoNV5"
      },
      "execution_count": 36,
      "outputs": []
    },
    {
      "cell_type": "code",
      "source": [
        "def load_img(image_path):\n",
        "    img = tf.io.read_file(image_path)\n",
        "    img = tf.image.decode_image(img, 3, expand_animations=False)\n",
        "    img = tf.cast(img, tf.float32)\n",
        "    return img"
      ],
      "metadata": {
        "id": "vkVlMdTpoVX7"
      },
      "execution_count": 37,
      "outputs": []
    },
    {
      "cell_type": "code",
      "source": [
        "def normalize(image):\n",
        "    image = (image / 127.5) - 1\n",
        "    return image"
      ],
      "metadata": {
        "id": "od7ogqC8obZr"
      },
      "execution_count": 38,
      "outputs": []
    },
    {
      "cell_type": "code",
      "source": [
        "def resize(image,height, width):\n",
        "    image = tf.image.resize(image, (height, width), method=tf.image.ResizeMethod.NEAREST_NEIGHBOR)\n",
        "    return image"
      ],
      "metadata": {
        "id": "rMfVdNpkostY"
      },
      "execution_count": 39,
      "outputs": []
    },
    {
      "cell_type": "code",
      "source": [
        "def load_image_with_label(image_path):\n",
        "    label = get_label(image_path)\n",
        "    img = load_img(image_path)\n",
        "    return img, label"
      ],
      "metadata": {
        "id": "9MMjiHOPoyKx"
      },
      "execution_count": 40,
      "outputs": []
    },
    {
      "cell_type": "code",
      "source": [
        "def load_image_train(image_file):\n",
        "    image, label = load_image_with_label(image_file)\n",
        "    image = augment_data(image)\n",
        "    image = normalize(image)\n",
        "    \n",
        "    return image, label"
      ],
      "metadata": {
        "id": "VzhYVkTuo1hD"
      },
      "execution_count": 41,
      "outputs": []
    },
    {
      "cell_type": "code",
      "source": [
        "def load_image_test(image_file):\n",
        "    image, label = load_image_with_label(image_file)\n",
        "    image = resize(image, 150, 150)\n",
        "    image = normalize(image)\n",
        "\n",
        "    return image, label"
      ],
      "metadata": {
        "id": "m1fFHNTlo4A-"
      },
      "execution_count": 42,
      "outputs": []
    },
    {
      "cell_type": "code",
      "source": [
        "b_size = 32\n",
        "s_size = 1000"
      ],
      "metadata": {
        "id": "Qsfa3l5Mo6cj"
      },
      "execution_count": 43,
      "outputs": []
    },
    {
      "cell_type": "code",
      "source": [
        "train_dataset = train_dataset.map(load_image_train)\n",
        "train_dataset = train_dataset.shuffle(s_size)\n",
        "train_dataset = train_dataset.batch(b_size)"
      ],
      "metadata": {
        "id": "_RWfASPSpBrZ"
      },
      "execution_count": 44,
      "outputs": []
    },
    {
      "cell_type": "code",
      "source": [
        "validation_dataset = validation_dataset.map(load_image_test)\n",
        "validation_dataset = validation_dataset.batch(b_size)"
      ],
      "metadata": {
        "id": "cxJ_Xfd4pPEg"
      },
      "execution_count": 45,
      "outputs": []
    },
    {
      "cell_type": "code",
      "source": [
        "base_model = tf.keras.applications.VGG16(weights='imagenet', include_top=False, input_shape=(150, 150, 3))"
      ],
      "metadata": {
        "colab": {
          "base_uri": "https://localhost:8080/"
        },
        "id": "y1sjx339pi2C",
        "outputId": "16d1af6f-eafd-4a28-8f77-b53027596e58"
      },
      "execution_count": 46,
      "outputs": [
        {
          "output_type": "stream",
          "name": "stdout",
          "text": [
            "Downloading data from https://storage.googleapis.com/tensorflow/keras-applications/vgg16/vgg16_weights_tf_dim_ordering_tf_kernels_notop.h5\n",
            "58892288/58889256 [==============================] - 1s 0us/step\n",
            "58900480/58889256 [==============================] - 1s 0us/step\n"
          ]
        }
      ]
    },
    {
      "cell_type": "code",
      "source": [
        "base_model.trainable = False"
      ],
      "metadata": {
        "id": "bFC_zhtdpo3S"
      },
      "execution_count": 47,
      "outputs": []
    },
    {
      "cell_type": "code",
      "source": [
        "num_classes = len(class_names)"
      ],
      "metadata": {
        "id": "pSa7fRndps9a"
      },
      "execution_count": 48,
      "outputs": []
    },
    {
      "cell_type": "code",
      "source": [
        "model = tf.keras.Sequential([\n",
        "                             base_model\n",
        "])"
      ],
      "metadata": {
        "id": "DmKv_72upwaa"
      },
      "execution_count": 49,
      "outputs": []
    },
    {
      "cell_type": "code",
      "source": [
        "model.add(tf.keras.layers.GlobalAveragePooling2D())\n",
        "model.add(tf.keras.layers.Dense(32, activation='relu'))\n",
        "model.add(tf.keras.layers.Dropout(0.5))\n",
        "model.add(tf.keras.layers.Dense(num_classes, activation='softmax'))"
      ],
      "metadata": {
        "id": "qzbVtfkkp3G5"
      },
      "execution_count": 50,
      "outputs": []
    },
    {
      "cell_type": "code",
      "source": [
        "model.compile(optimizer=tf.keras.optimizers.RMSprop(learning_rate=0.01), loss='categorical_crossentropy', metrics=['accuracy'])"
      ],
      "metadata": {
        "id": "KGbtRX80qV-G"
      },
      "execution_count": 52,
      "outputs": []
    },
    {
      "cell_type": "code",
      "source": [
        "history = model.fit(train_dataset, epochs=100, validation_data=validation_dataset)"
      ],
      "metadata": {
        "colab": {
          "base_uri": "https://localhost:8080/"
        },
        "id": "XVkcIa9uqiTz",
        "outputId": "1836d1d2-5720-4835-9ca2-2db5995bbecb"
      },
      "execution_count": 53,
      "outputs": [
        {
          "output_type": "stream",
          "name": "stdout",
          "text": [
            "Epoch 1/100\n",
            "92/92 [==============================] - 49s 334ms/step - loss: 1.2449 - accuracy: 0.4765 - val_loss: 0.9568 - val_accuracy: 0.6172\n",
            "Epoch 2/100\n",
            "92/92 [==============================] - 31s 287ms/step - loss: 0.9605 - accuracy: 0.5947 - val_loss: 0.8103 - val_accuracy: 0.6812\n",
            "Epoch 3/100\n",
            "92/92 [==============================] - 31s 290ms/step - loss: 0.8883 - accuracy: 0.6366 - val_loss: 0.8955 - val_accuracy: 0.6403\n",
            "Epoch 4/100\n",
            "92/92 [==============================] - 31s 290ms/step - loss: 0.8613 - accuracy: 0.6339 - val_loss: 0.6742 - val_accuracy: 0.7520\n",
            "Epoch 5/100\n",
            "92/92 [==============================] - 31s 287ms/step - loss: 0.8371 - accuracy: 0.6649 - val_loss: 0.7066 - val_accuracy: 0.7262\n",
            "Epoch 6/100\n",
            "92/92 [==============================] - 31s 288ms/step - loss: 0.8117 - accuracy: 0.6676 - val_loss: 0.6978 - val_accuracy: 0.7439\n",
            "Epoch 7/100\n",
            "92/92 [==============================] - 31s 290ms/step - loss: 0.7927 - accuracy: 0.6809 - val_loss: 0.6018 - val_accuracy: 0.7616\n",
            "Epoch 8/100\n",
            "92/92 [==============================] - 31s 292ms/step - loss: 0.7723 - accuracy: 0.6832 - val_loss: 0.6229 - val_accuracy: 0.7711\n",
            "Epoch 9/100\n",
            "92/92 [==============================] - 31s 290ms/step - loss: 0.7589 - accuracy: 0.6996 - val_loss: 0.6440 - val_accuracy: 0.7875\n",
            "Epoch 10/100\n",
            "92/92 [==============================] - 31s 289ms/step - loss: 0.7533 - accuracy: 0.6989 - val_loss: 0.6971 - val_accuracy: 0.7657\n",
            "Epoch 11/100\n",
            "92/92 [==============================] - 31s 289ms/step - loss: 0.7432 - accuracy: 0.7112 - val_loss: 0.6797 - val_accuracy: 0.7480\n",
            "Epoch 12/100\n",
            "92/92 [==============================] - 31s 290ms/step - loss: 0.7411 - accuracy: 0.6972 - val_loss: 0.6712 - val_accuracy: 0.7548\n",
            "Epoch 13/100\n",
            "92/92 [==============================] - 31s 289ms/step - loss: 0.7427 - accuracy: 0.7023 - val_loss: 0.6273 - val_accuracy: 0.7766\n",
            "Epoch 14/100\n",
            "92/92 [==============================] - 31s 288ms/step - loss: 0.7081 - accuracy: 0.7183 - val_loss: 0.6349 - val_accuracy: 0.7916\n",
            "Epoch 15/100\n",
            "92/92 [==============================] - 31s 288ms/step - loss: 0.7079 - accuracy: 0.7149 - val_loss: 0.6450 - val_accuracy: 0.7439\n",
            "Epoch 16/100\n",
            "92/92 [==============================] - 31s 290ms/step - loss: 0.7114 - accuracy: 0.7153 - val_loss: 0.6311 - val_accuracy: 0.7589\n",
            "Epoch 17/100\n",
            "92/92 [==============================] - 31s 288ms/step - loss: 0.6838 - accuracy: 0.7289 - val_loss: 0.8047 - val_accuracy: 0.7139\n",
            "Epoch 18/100\n",
            "92/92 [==============================] - 31s 287ms/step - loss: 0.6983 - accuracy: 0.7309 - val_loss: 0.7308 - val_accuracy: 0.7657\n",
            "Epoch 19/100\n",
            "92/92 [==============================] - 31s 287ms/step - loss: 0.7022 - accuracy: 0.7217 - val_loss: 0.7012 - val_accuracy: 0.7439\n",
            "Epoch 20/100\n",
            "92/92 [==============================] - 31s 286ms/step - loss: 0.6632 - accuracy: 0.7309 - val_loss: 0.8417 - val_accuracy: 0.7371\n",
            "Epoch 21/100\n",
            "92/92 [==============================] - 31s 288ms/step - loss: 0.6983 - accuracy: 0.7299 - val_loss: 0.7624 - val_accuracy: 0.7629\n",
            "Epoch 22/100\n",
            "92/92 [==============================] - 31s 288ms/step - loss: 0.6979 - accuracy: 0.7272 - val_loss: 0.6910 - val_accuracy: 0.7629\n",
            "Epoch 23/100\n",
            "92/92 [==============================] - 31s 287ms/step - loss: 0.6701 - accuracy: 0.7371 - val_loss: 0.6827 - val_accuracy: 0.7752\n",
            "Epoch 24/100\n",
            "92/92 [==============================] - 31s 288ms/step - loss: 0.6667 - accuracy: 0.7289 - val_loss: 0.6579 - val_accuracy: 0.7684\n",
            "Epoch 25/100\n",
            "92/92 [==============================] - 32s 304ms/step - loss: 0.6865 - accuracy: 0.7326 - val_loss: 0.6996 - val_accuracy: 0.7480\n",
            "Epoch 26/100\n",
            "92/92 [==============================] - 31s 289ms/step - loss: 0.6927 - accuracy: 0.7405 - val_loss: 0.6559 - val_accuracy: 0.7943\n",
            "Epoch 27/100\n",
            "92/92 [==============================] - 31s 287ms/step - loss: 0.6794 - accuracy: 0.7224 - val_loss: 0.7483 - val_accuracy: 0.7425\n",
            "Epoch 28/100\n",
            "92/92 [==============================] - 31s 290ms/step - loss: 0.6570 - accuracy: 0.7313 - val_loss: 0.7493 - val_accuracy: 0.7411\n",
            "Epoch 29/100\n",
            "92/92 [==============================] - 31s 290ms/step - loss: 0.6606 - accuracy: 0.7388 - val_loss: 0.7582 - val_accuracy: 0.7616\n",
            "Epoch 30/100\n",
            "92/92 [==============================] - 32s 305ms/step - loss: 0.6691 - accuracy: 0.7367 - val_loss: 0.6135 - val_accuracy: 0.7698\n",
            "Epoch 31/100\n",
            "92/92 [==============================] - 31s 288ms/step - loss: 0.6284 - accuracy: 0.7500 - val_loss: 0.7137 - val_accuracy: 0.7602\n",
            "Epoch 32/100\n",
            "92/92 [==============================] - 31s 289ms/step - loss: 0.6658 - accuracy: 0.7347 - val_loss: 0.6903 - val_accuracy: 0.7984\n",
            "Epoch 33/100\n",
            "92/92 [==============================] - 31s 293ms/step - loss: 0.6574 - accuracy: 0.7493 - val_loss: 0.7443 - val_accuracy: 0.7847\n",
            "Epoch 34/100\n",
            "92/92 [==============================] - 32s 307ms/step - loss: 0.6503 - accuracy: 0.7490 - val_loss: 0.7978 - val_accuracy: 0.7520\n",
            "Epoch 35/100\n",
            "92/92 [==============================] - 31s 292ms/step - loss: 0.6657 - accuracy: 0.7463 - val_loss: 0.6949 - val_accuracy: 0.7711\n",
            "Epoch 36/100\n",
            "92/92 [==============================] - 32s 304ms/step - loss: 0.6644 - accuracy: 0.7432 - val_loss: 0.6435 - val_accuracy: 0.7698\n",
            "Epoch 37/100\n",
            "92/92 [==============================] - 31s 290ms/step - loss: 0.6324 - accuracy: 0.7541 - val_loss: 0.7083 - val_accuracy: 0.7929\n",
            "Epoch 38/100\n",
            "92/92 [==============================] - 31s 292ms/step - loss: 0.6662 - accuracy: 0.7500 - val_loss: 0.8537 - val_accuracy: 0.7371\n",
            "Epoch 39/100\n",
            "92/92 [==============================] - 31s 289ms/step - loss: 0.6616 - accuracy: 0.7357 - val_loss: 0.7331 - val_accuracy: 0.7657\n",
            "Epoch 40/100\n",
            "92/92 [==============================] - 31s 288ms/step - loss: 0.6389 - accuracy: 0.7428 - val_loss: 0.6352 - val_accuracy: 0.7738\n",
            "Epoch 41/100\n",
            "92/92 [==============================] - 31s 290ms/step - loss: 0.6637 - accuracy: 0.7388 - val_loss: 0.6113 - val_accuracy: 0.7820\n",
            "Epoch 42/100\n",
            "92/92 [==============================] - 31s 286ms/step - loss: 0.6221 - accuracy: 0.7384 - val_loss: 0.6958 - val_accuracy: 0.7820\n",
            "Epoch 43/100\n",
            "92/92 [==============================] - 31s 289ms/step - loss: 0.6508 - accuracy: 0.7507 - val_loss: 0.7328 - val_accuracy: 0.7711\n",
            "Epoch 44/100\n",
            "92/92 [==============================] - 31s 288ms/step - loss: 0.6494 - accuracy: 0.7473 - val_loss: 0.7717 - val_accuracy: 0.7820\n",
            "Epoch 45/100\n",
            "92/92 [==============================] - 31s 289ms/step - loss: 0.6608 - accuracy: 0.7432 - val_loss: 0.6707 - val_accuracy: 0.7807\n",
            "Epoch 46/100\n",
            "92/92 [==============================] - 31s 289ms/step - loss: 0.6471 - accuracy: 0.7415 - val_loss: 0.7591 - val_accuracy: 0.7684\n",
            "Epoch 47/100\n",
            "92/92 [==============================] - 31s 290ms/step - loss: 0.6565 - accuracy: 0.7401 - val_loss: 0.7812 - val_accuracy: 0.7738\n",
            "Epoch 48/100\n",
            "92/92 [==============================] - 31s 285ms/step - loss: 0.6563 - accuracy: 0.7381 - val_loss: 0.6146 - val_accuracy: 0.7956\n",
            "Epoch 49/100\n",
            "92/92 [==============================] - 31s 291ms/step - loss: 0.6431 - accuracy: 0.7439 - val_loss: 0.7355 - val_accuracy: 0.7875\n",
            "Epoch 50/100\n",
            "92/92 [==============================] - 31s 290ms/step - loss: 0.6576 - accuracy: 0.7480 - val_loss: 1.1652 - val_accuracy: 0.7180\n",
            "Epoch 51/100\n",
            "92/92 [==============================] - 31s 290ms/step - loss: 0.6653 - accuracy: 0.7446 - val_loss: 0.7968 - val_accuracy: 0.7575\n",
            "Epoch 52/100\n",
            "92/92 [==============================] - 31s 291ms/step - loss: 0.6419 - accuracy: 0.7408 - val_loss: 0.8302 - val_accuracy: 0.7711\n",
            "Epoch 53/100\n",
            "92/92 [==============================] - 31s 288ms/step - loss: 0.6550 - accuracy: 0.7493 - val_loss: 0.7623 - val_accuracy: 0.7902\n",
            "Epoch 54/100\n",
            "92/92 [==============================] - 31s 288ms/step - loss: 0.6457 - accuracy: 0.7408 - val_loss: 0.6818 - val_accuracy: 0.7861\n",
            "Epoch 55/100\n",
            "92/92 [==============================] - 31s 287ms/step - loss: 0.6530 - accuracy: 0.7486 - val_loss: 0.8494 - val_accuracy: 0.7520\n",
            "Epoch 56/100\n",
            "92/92 [==============================] - 31s 291ms/step - loss: 0.6418 - accuracy: 0.7527 - val_loss: 0.7761 - val_accuracy: 0.7997\n",
            "Epoch 57/100\n",
            "92/92 [==============================] - 31s 288ms/step - loss: 0.6452 - accuracy: 0.7510 - val_loss: 0.7753 - val_accuracy: 0.7534\n",
            "Epoch 58/100\n",
            "92/92 [==============================] - 31s 290ms/step - loss: 0.6980 - accuracy: 0.7432 - val_loss: 0.6928 - val_accuracy: 0.7861\n",
            "Epoch 59/100\n",
            "92/92 [==============================] - 31s 292ms/step - loss: 0.6726 - accuracy: 0.7394 - val_loss: 0.7526 - val_accuracy: 0.7984\n",
            "Epoch 60/100\n",
            "92/92 [==============================] - 31s 291ms/step - loss: 0.6579 - accuracy: 0.7592 - val_loss: 0.6499 - val_accuracy: 0.7643\n",
            "Epoch 61/100\n",
            "92/92 [==============================] - 31s 290ms/step - loss: 0.6237 - accuracy: 0.7561 - val_loss: 0.8141 - val_accuracy: 0.7357\n",
            "Epoch 62/100\n",
            "92/92 [==============================] - 31s 292ms/step - loss: 0.6747 - accuracy: 0.7469 - val_loss: 0.8374 - val_accuracy: 0.7711\n",
            "Epoch 63/100\n",
            "92/92 [==============================] - 31s 287ms/step - loss: 0.6707 - accuracy: 0.7439 - val_loss: 0.6910 - val_accuracy: 0.8038\n",
            "Epoch 64/100\n",
            "92/92 [==============================] - 31s 289ms/step - loss: 0.6564 - accuracy: 0.7483 - val_loss: 0.9637 - val_accuracy: 0.7902\n",
            "Epoch 65/100\n",
            "92/92 [==============================] - 31s 289ms/step - loss: 0.6739 - accuracy: 0.7425 - val_loss: 0.6944 - val_accuracy: 0.7779\n",
            "Epoch 66/100\n",
            "92/92 [==============================] - 31s 291ms/step - loss: 0.6632 - accuracy: 0.7456 - val_loss: 0.9124 - val_accuracy: 0.7575\n",
            "Epoch 67/100\n",
            "92/92 [==============================] - 31s 289ms/step - loss: 0.6400 - accuracy: 0.7554 - val_loss: 0.7277 - val_accuracy: 0.7589\n",
            "Epoch 68/100\n",
            "92/92 [==============================] - 31s 287ms/step - loss: 0.6530 - accuracy: 0.7415 - val_loss: 0.7725 - val_accuracy: 0.7275\n",
            "Epoch 69/100\n",
            "92/92 [==============================] - 31s 289ms/step - loss: 0.6587 - accuracy: 0.7439 - val_loss: 0.8506 - val_accuracy: 0.8011\n",
            "Epoch 70/100\n",
            "92/92 [==============================] - 31s 288ms/step - loss: 0.6820 - accuracy: 0.7347 - val_loss: 0.7406 - val_accuracy: 0.7670\n",
            "Epoch 71/100\n",
            "92/92 [==============================] - 31s 291ms/step - loss: 0.6466 - accuracy: 0.7347 - val_loss: 0.8969 - val_accuracy: 0.7616\n",
            "Epoch 72/100\n",
            "92/92 [==============================] - 31s 287ms/step - loss: 0.6753 - accuracy: 0.7337 - val_loss: 0.8861 - val_accuracy: 0.7629\n",
            "Epoch 73/100\n",
            "92/92 [==============================] - 31s 289ms/step - loss: 0.6244 - accuracy: 0.7572 - val_loss: 0.9959 - val_accuracy: 0.7616\n",
            "Epoch 74/100\n",
            "92/92 [==============================] - 30s 285ms/step - loss: 0.6650 - accuracy: 0.7578 - val_loss: 0.9962 - val_accuracy: 0.7602\n",
            "Epoch 75/100\n",
            "92/92 [==============================] - 30s 282ms/step - loss: 0.6401 - accuracy: 0.7490 - val_loss: 0.9353 - val_accuracy: 0.7657\n",
            "Epoch 76/100\n",
            "92/92 [==============================] - 30s 283ms/step - loss: 0.6566 - accuracy: 0.7435 - val_loss: 0.9319 - val_accuracy: 0.7534\n",
            "Epoch 77/100\n",
            "92/92 [==============================] - 30s 286ms/step - loss: 0.6467 - accuracy: 0.7483 - val_loss: 0.8889 - val_accuracy: 0.7738\n",
            "Epoch 78/100\n",
            "92/92 [==============================] - 30s 283ms/step - loss: 0.6585 - accuracy: 0.7456 - val_loss: 0.8314 - val_accuracy: 0.7602\n",
            "Epoch 79/100\n",
            "92/92 [==============================] - 30s 283ms/step - loss: 0.6354 - accuracy: 0.7452 - val_loss: 1.0346 - val_accuracy: 0.7725\n",
            "Epoch 80/100\n",
            "92/92 [==============================] - 30s 285ms/step - loss: 0.6422 - accuracy: 0.7435 - val_loss: 0.7738 - val_accuracy: 0.7929\n",
            "Epoch 81/100\n",
            "92/92 [==============================] - 31s 287ms/step - loss: 0.6791 - accuracy: 0.7446 - val_loss: 1.0851 - val_accuracy: 0.7520\n",
            "Epoch 82/100\n",
            "92/92 [==============================] - 30s 285ms/step - loss: 0.6111 - accuracy: 0.7452 - val_loss: 0.8328 - val_accuracy: 0.7738\n",
            "Epoch 83/100\n",
            "92/92 [==============================] - 30s 287ms/step - loss: 0.6598 - accuracy: 0.7442 - val_loss: 0.8562 - val_accuracy: 0.7616\n",
            "Epoch 84/100\n",
            "92/92 [==============================] - 31s 288ms/step - loss: 0.6844 - accuracy: 0.7309 - val_loss: 0.8106 - val_accuracy: 0.7875\n",
            "Epoch 85/100\n",
            "92/92 [==============================] - 31s 287ms/step - loss: 0.6725 - accuracy: 0.7418 - val_loss: 0.9741 - val_accuracy: 0.7439\n",
            "Epoch 86/100\n",
            "92/92 [==============================] - 31s 288ms/step - loss: 0.6678 - accuracy: 0.7371 - val_loss: 0.7079 - val_accuracy: 0.7738\n",
            "Epoch 87/100\n",
            "92/92 [==============================] - 31s 285ms/step - loss: 0.6580 - accuracy: 0.7299 - val_loss: 0.7480 - val_accuracy: 0.7861\n",
            "Epoch 88/100\n",
            "92/92 [==============================] - 31s 288ms/step - loss: 0.6501 - accuracy: 0.7503 - val_loss: 0.8079 - val_accuracy: 0.7561\n",
            "Epoch 89/100\n",
            "92/92 [==============================] - 31s 289ms/step - loss: 0.6852 - accuracy: 0.7439 - val_loss: 0.8515 - val_accuracy: 0.7657\n",
            "Epoch 90/100\n",
            "92/92 [==============================] - 31s 287ms/step - loss: 0.6277 - accuracy: 0.7463 - val_loss: 0.8018 - val_accuracy: 0.7738\n",
            "Epoch 91/100\n",
            "92/92 [==============================] - 31s 290ms/step - loss: 0.6721 - accuracy: 0.7425 - val_loss: 1.0815 - val_accuracy: 0.7589\n",
            "Epoch 92/100\n",
            "92/92 [==============================] - 30s 285ms/step - loss: 0.6688 - accuracy: 0.7388 - val_loss: 0.7970 - val_accuracy: 0.7561\n",
            "Epoch 93/100\n",
            "92/92 [==============================] - 30s 284ms/step - loss: 0.7206 - accuracy: 0.7367 - val_loss: 0.8948 - val_accuracy: 0.7779\n",
            "Epoch 94/100\n",
            "92/92 [==============================] - 30s 282ms/step - loss: 0.6650 - accuracy: 0.7323 - val_loss: 0.8142 - val_accuracy: 0.7534\n",
            "Epoch 95/100\n",
            "92/92 [==============================] - 30s 283ms/step - loss: 0.6932 - accuracy: 0.7296 - val_loss: 0.8490 - val_accuracy: 0.7507\n",
            "Epoch 96/100\n",
            "92/92 [==============================] - 30s 284ms/step - loss: 0.6803 - accuracy: 0.7306 - val_loss: 0.8441 - val_accuracy: 0.7629\n",
            "Epoch 97/100\n",
            "92/92 [==============================] - 30s 285ms/step - loss: 0.6413 - accuracy: 0.7490 - val_loss: 0.8247 - val_accuracy: 0.7738\n",
            "Epoch 98/100\n",
            "92/92 [==============================] - 30s 285ms/step - loss: 0.7040 - accuracy: 0.7316 - val_loss: 0.6806 - val_accuracy: 0.7766\n",
            "Epoch 99/100\n",
            "92/92 [==============================] - 30s 283ms/step - loss: 0.6822 - accuracy: 0.7357 - val_loss: 1.1304 - val_accuracy: 0.7398\n",
            "Epoch 100/100\n",
            "92/92 [==============================] - 30s 283ms/step - loss: 0.6833 - accuracy: 0.7391 - val_loss: 0.8326 - val_accuracy: 0.7602\n"
          ]
        }
      ]
    },
    {
      "cell_type": "code",
      "source": [
        ""
      ],
      "metadata": {
        "id": "SzQxRfUUqusa"
      },
      "execution_count": null,
      "outputs": []
    }
  ]
}